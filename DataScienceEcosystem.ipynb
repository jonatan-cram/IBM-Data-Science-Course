{
 "cells": [
  {
   "cell_type": "markdown",
   "id": "3184b60d-b6a8-493b-b644-362334d1debd",
   "metadata": {},
   "source": [
    "# Data Science Tools and Ecosystem"
   ]
  },
  {
   "cell_type": "markdown",
   "id": "3e1b1948-18b5-41b6-a3ec-a59318498fba",
   "metadata": {},
   "source": [
    "The objective of this noteboook is summarize Data Sciencie Tools and Ecosystem."
   ]
  },
  {
   "cell_type": "markdown",
   "id": "fc823de0-8330-40f3-b5a4-eabf2039b389",
   "metadata": {},
   "source": [
    "**Particular objectives:**\n",
    "\n",
    "- List popular languages for Data Science\n",
    "- List examples of open-source tools used in data science.\n",
    "- List the various libraries: scientific, visualization, machine learning, and deep learning.\n",
    "- Describe how to use the notebooks in JupyterLab."
   ]
  },
  {
   "cell_type": "markdown",
   "id": "cc051588-e244-4946-aa24-b0996edae951",
   "metadata": {},
   "source": [
    "There are many program languages used in Data Science. Some of the popular languages are:\n",
    "\n",
    "- Python\n",
    "- R\n",
    "- SQL\n",
    "- Scala\n",
    "- Java\n",
    "- C++\n",
    "- Julia"
   ]
  },
  {
   "cell_type": "markdown",
   "id": "4b3dc8fa-b14e-420c-873e-88a3593ff51c",
   "metadata": {},
   "source": [
    "Some of the commonly used libraries used by Data Scientists include:\n",
    "\n",
    "- Pandas\n",
    "- NumPy\n",
    "- SciPy\n",
    "- Matplotlib\n"
   ]
  },
  {
   "cell_type": "markdown",
   "id": "f06ee53e-0736-4cd5-9746-892b31f6ec09",
   "metadata": {},
   "source": [
    "|Data Science Tools|\n",
    "|------------------|\n",
    "| Jupyter Notebook |\n",
    "| RStudio |\n",
    "| Visual Studio Code |"
   ]
  },
  {
   "cell_type": "markdown",
   "id": "116e62d7-e988-49a3-a245-149657026fb0",
   "metadata": {},
   "source": [
    "### Below are a few examples of evaluating arithmetic expressions in Python"
   ]
  },
  {
   "cell_type": "code",
   "execution_count": 1,
   "id": "211cb3f7-c9e0-4fba-8a8d-c9ccb0334616",
   "metadata": {},
   "outputs": [
    {
     "data": {
      "text/plain": [
       "17"
      ]
     },
     "execution_count": 1,
     "metadata": {},
     "output_type": "execute_result"
    }
   ],
   "source": [
    "# This a simple arithmetic expression to mutiply then add integers\n",
    "(3*4)+5"
   ]
  },
  {
   "cell_type": "code",
   "execution_count": 2,
   "id": "42ebd22f-0f1c-494f-8ca7-37ca7750943d",
   "metadata": {},
   "outputs": [
    {
     "data": {
      "text/plain": [
       "2.0"
      ]
     },
     "execution_count": 2,
     "metadata": {},
     "output_type": "execute_result"
    }
   ],
   "source": [
    "# his will convert 200 minutes to hours by diving by 60\n",
    "120/60"
   ]
  },
  {
   "cell_type": "markdown",
   "id": "53288b27-88c2-41ea-831e-2155366525bc",
   "metadata": {},
   "source": [
    "## Author\n",
    "Jonatan Campos Ramírez"
   ]
  },
  {
   "cell_type": "code",
   "execution_count": null,
   "id": "885c041b-5a6e-496c-9f99-451ad3afb248",
   "metadata": {},
   "outputs": [],
   "source": []
  }
 ],
 "metadata": {
  "kernelspec": {
   "display_name": "Python 3 (ipykernel)",
   "language": "python",
   "name": "python3"
  },
  "language_info": {
   "codemirror_mode": {
    "name": "ipython",
    "version": 3
   },
   "file_extension": ".py",
   "mimetype": "text/x-python",
   "name": "python",
   "nbconvert_exporter": "python",
   "pygments_lexer": "ipython3",
   "version": "3.10.12"
  }
 },
 "nbformat": 4,
 "nbformat_minor": 5
}
